{
 "cells": [
  {
   "cell_type": "code",
   "execution_count": 1,
   "id": "49dd6834-80ad-4c08-a284-be48befd2b2e",
   "metadata": {},
   "outputs": [],
   "source": [
    "import pandas as pd\n",
    "import matplotlib.pyplot as plt\n"
   ]
  },
  {
   "cell_type": "code",
   "execution_count": 6,
   "id": "c631c40f-fdac-4619-958d-4850c99342b3",
   "metadata": {},
   "outputs": [],
   "source": [
    "df = pd.read_csv('supply_chain_data.csv')"
   ]
  },
  {
   "cell_type": "code",
   "execution_count": 8,
   "id": "6565f449-fded-43a8-9f0d-ad7fc585fa50",
   "metadata": {},
   "outputs": [
    {
     "name": "stdout",
     "output_type": "stream",
     "text": [
      "  Product type   SKU      Price  Availability  Number of products sold  \\\n",
      "0     haircare  SKU0  69.808006            55                      802   \n",
      "1     skincare  SKU1  14.843523            95                      736   \n",
      "2     haircare  SKU2  11.319683            34                        8   \n",
      "3     skincare  SKU3  61.163343            68                       83   \n",
      "4     skincare  SKU4   4.805496            26                      871   \n",
      "\n",
      "   Revenue generated Customer demographics  Stock levels  Lead times  \\\n",
      "0        8661.996792            Non-binary            58           7   \n",
      "1        7460.900065                Female            53          30   \n",
      "2        9577.749626               Unknown             1          10   \n",
      "3        7766.836426            Non-binary            23          13   \n",
      "4        2686.505152            Non-binary             5           3   \n",
      "\n",
      "   Order quantities  ...  Location Lead time  Production volumes  \\\n",
      "0                96  ...    Mumbai        29                 215   \n",
      "1                37  ...    Mumbai        23                 517   \n",
      "2                88  ...    Mumbai        12                 971   \n",
      "3                59  ...   Kolkata        24                 937   \n",
      "4                56  ...     Delhi         5                 414   \n",
      "\n",
      "  Manufacturing lead time Manufacturing costs  Inspection results  \\\n",
      "0                      29           46.279879             Pending   \n",
      "1                      30           33.616769             Pending   \n",
      "2                      27           30.688019             Pending   \n",
      "3                      18           35.624741                Fail   \n",
      "4                       3           92.065161                Fail   \n",
      "\n",
      "   Defect rates  Transportation modes   Routes       Costs  \n",
      "0      0.226410                  Road  Route B  187.752075  \n",
      "1      4.854068                  Road  Route B  503.065579  \n",
      "2      4.580593                   Air  Route C  141.920282  \n",
      "3      4.746649                  Rail  Route A  254.776159  \n",
      "4      3.145580                   Air  Route A  923.440632  \n",
      "\n",
      "[5 rows x 24 columns]\n"
     ]
    }
   ],
   "source": [
    "print(df.head())"
   ]
  },
  {
   "cell_type": "code",
   "execution_count": 7,
   "id": "d6adb853-a033-4ce3-8293-26eaf1c90ce3",
   "metadata": {},
   "outputs": [
    {
     "name": "stdout",
     "output_type": "stream",
     "text": [
      "<class 'pandas.core.frame.DataFrame'>\n",
      "RangeIndex: 100 entries, 0 to 99\n",
      "Data columns (total 24 columns):\n",
      " #   Column                   Non-Null Count  Dtype  \n",
      "---  ------                   --------------  -----  \n",
      " 0   Product type             100 non-null    object \n",
      " 1   SKU                      100 non-null    object \n",
      " 2   Price                    100 non-null    float64\n",
      " 3   Availability             100 non-null    int64  \n",
      " 4   Number of products sold  100 non-null    int64  \n",
      " 5   Revenue generated        100 non-null    float64\n",
      " 6   Customer demographics    100 non-null    object \n",
      " 7   Stock levels             100 non-null    int64  \n",
      " 8   Lead times               100 non-null    int64  \n",
      " 9   Order quantities         100 non-null    int64  \n",
      " 10  Shipping times           100 non-null    int64  \n",
      " 11  Shipping carriers        100 non-null    object \n",
      " 12  Shipping costs           100 non-null    float64\n",
      " 13  Supplier name            100 non-null    object \n",
      " 14  Location                 100 non-null    object \n",
      " 15  Lead time                100 non-null    int64  \n",
      " 16  Production volumes       100 non-null    int64  \n",
      " 17  Manufacturing lead time  100 non-null    int64  \n",
      " 18  Manufacturing costs      100 non-null    float64\n",
      " 19  Inspection results       100 non-null    object \n",
      " 20  Defect rates             100 non-null    float64\n",
      " 21  Transportation modes     100 non-null    object \n",
      " 22  Routes                   100 non-null    object \n",
      " 23  Costs                    100 non-null    float64\n",
      "dtypes: float64(6), int64(9), object(9)\n",
      "memory usage: 18.9+ KB\n",
      "None\n"
     ]
    }
   ],
   "source": [
    "print(df.info())"
   ]
  },
  {
   "cell_type": "code",
   "execution_count": 9,
   "id": "f53a368a-2826-4473-8d64-382c9d49b67e",
   "metadata": {},
   "outputs": [],
   "source": [
    "df.drop_duplicates(inplace=True)\n"
   ]
  },
  {
   "cell_type": "code",
   "execution_count": 10,
   "id": "048ed541-61bd-41d3-83a0-359c5a5af169",
   "metadata": {},
   "outputs": [],
   "source": [
    "df.columns = df.columns.str.strip().str.lower().str.replace(' ', '_')"
   ]
  },
  {
   "cell_type": "code",
   "execution_count": 11,
   "id": "1a0e0fed-94c2-4582-9aff-a76ea5439cdc",
   "metadata": {},
   "outputs": [
    {
     "name": "stdout",
     "output_type": "stream",
     "text": [
      "            price  number_of_products_sold  shipping_costs\n",
      "count  100.000000               100.000000      100.000000\n",
      "mean    49.462461               460.990000        5.548149\n",
      "std     31.168193               303.780074        2.651376\n",
      "min      1.699976                 8.000000        1.013487\n",
      "25%     19.597823               184.250000        3.540248\n",
      "50%     51.239831               392.500000        5.320534\n",
      "75%     77.198228               704.250000        7.601695\n",
      "max     99.171329               996.000000        9.929816\n"
     ]
    }
   ],
   "source": [
    "print(df[['price', 'number_of_products_sold', 'shipping_costs']].describe())"
   ]
  },
  {
   "cell_type": "code",
   "execution_count": 12,
   "id": "c49631fa-d99a-46cf-b118-fe4fd055749b",
   "metadata": {},
   "outputs": [],
   "source": [
    "df['supplier_name'] = df['supplier_name'].str.lower().str.strip()"
   ]
  },
  {
   "cell_type": "code",
   "execution_count": 14,
   "id": "734ed1b3-9929-48c9-b189-cf7b6f8eb4ad",
   "metadata": {},
   "outputs": [
    {
     "name": "stdout",
     "output_type": "stream",
     "text": [
      "Index(['product_type', 'sku', 'price', 'availability',\n",
      "       'number_of_products_sold', 'revenue_generated', 'customer_demographics',\n",
      "       'stock_levels', 'lead_times', 'order_quantities', 'shipping_times',\n",
      "       'shipping_carriers', 'shipping_costs', 'supplier_name', 'location',\n",
      "       'lead_time', 'production_volumes', 'manufacturing_lead_time',\n",
      "       'manufacturing_costs', 'inspection_results', 'defect_rates',\n",
      "       'transportation_modes', 'routes', 'costs'],\n",
      "      dtype='object')\n"
     ]
    }
   ],
   "source": [
    "print(df.columns)"
   ]
  },
  {
   "cell_type": "code",
   "execution_count": 15,
   "id": "eb078fad-3cbc-4832-9b75-b78ad33d671f",
   "metadata": {},
   "outputs": [],
   "source": [
    "#Sales Analysis\n",
    "sales_analysis = df.groupby('product_type').agg({'number_of_products_sold': 'sum', 'revenue_generated': 'sum'})\n"
   ]
  },
  {
   "cell_type": "code",
   "execution_count": 18,
   "id": "2707babb-a5e4-4972-a3f7-2ccba4c0a70a",
   "metadata": {},
   "outputs": [],
   "source": [
    "#Cost optimization\n",
    "cost_analysis = df[['shipping_costs', 'manufacturing_costs']].describe()\n"
   ]
  },
  {
   "cell_type": "code",
   "execution_count": 23,
   "id": "c069921a-5719-4ec9-910e-465f63338b5d",
   "metadata": {},
   "outputs": [],
   "source": [
    "#Inventory management\n",
    "inventory_analysis = df.groupby('product_type')['stock_levels'].agg(['sum', 'mean'])"
   ]
  },
  {
   "cell_type": "code",
   "execution_count": 24,
   "id": "65afc04a-0017-44c1-be56-5411bbc3b887",
   "metadata": {},
   "outputs": [],
   "source": [
    "# Customer Analysis\n",
    "customer_analysis = df['customer_demographics'].value_counts()"
   ]
  },
  {
   "cell_type": "code",
   "execution_count": 25,
   "id": "15bb5961-2dad-48e4-94db-8b633a988a61",
   "metadata": {},
   "outputs": [],
   "source": [
    "# Defect analysis\n",
    "defect_analysis = df.groupby('product_type')['defect_rates'].mean()"
   ]
  },
  {
   "cell_type": "code",
   "execution_count": 26,
   "id": "b27ef2b5-a18a-4e4b-a5a7-76750b3ee220",
   "metadata": {},
   "outputs": [],
   "source": [
    "# Grouping total products sold and revenue by different locations\n",
    "sales_by_location = df.groupby('location').agg({'number_of_products_sold': 'sum', 'revenue_generated': 'sum'})"
   ]
  },
  {
   "cell_type": "code",
   "execution_count": 27,
   "id": "3620dbcd-bac9-4dfa-9068-b0e3463bba65",
   "metadata": {},
   "outputs": [],
   "source": [
    "# Calculating average shipping time by shipping carriers\n",
    "shipping_time_analysis = df.groupby('shipping_carriers')['shipping_times'].mean()"
   ]
  },
  {
   "cell_type": "code",
   "execution_count": 31,
   "id": "f92c06cf-c406-41d4-982e-f8153043dc31",
   "metadata": {},
   "outputs": [
    {
     "data": {
      "image/png": "[encoded data removed]",
      "text/plain": [
       "<Figure size 1000x600 with 1 Axes>"
      ]
     },
     "metadata": {},
     "output_type": "display_data"
    }
   ],
   "source": [
    "# Creating a box plot to show price distribution by product types\n",
    "import matplotlib.pyplot as plt\n",
    "import seaborn as sns\n",
    "\n",
    "plt.figure(figsize=(10, 6))  # Set the figure size\n",
    "sns.boxplot(x='product_type', y='price', data=df)  # Plot price data\n",
    "plt.title('Price Distribution by Product Type')  # Title of the plot\n",
    "plt.xticks(rotation=45)  # Rotate category names\n",
    "plt.show()  # Display the plot"
   ]
  },
  {
   "cell_type": "code",
   "execution_count": 29,
   "id": "8e43dcf6-53f8-41ea-b062-506970c16a80",
   "metadata": {},
   "outputs": [],
   "source": [
    "# Summing revenue for each product type to identify the most profitable products\n",
    "revenue_analysis = df.groupby('product_type')['revenue_generated'].sum()"
   ]
  },
  {
   "cell_type": "code",
   "execution_count": 32,
   "id": "29b620bd-5089-4ff1-88d7-0733d82b1d80",
   "metadata": {},
   "outputs": [],
   "source": [
    "# Summing stock levels for each product type to identify products needing reordering\n",
    "stock_analysis = df.groupby('product_type')['stock_levels'].sum()"
   ]
  },
  {
   "cell_type": "code",
   "execution_count": 34,
   "id": "10cf6498-cf30-4caf-8cb4-59b0e5239822",
   "metadata": {},
   "outputs": [],
   "source": [
    "# Analyzing defect rates by suppliers to assess product quality\n",
    "defect_analysis_by_supplier = df.groupby('supplier_name')['defect_rates'].mean()"
   ]
  },
  {
   "cell_type": "code",
   "execution_count": 35,
   "id": "b611775e-89af-4748-863b-ad6270668833",
   "metadata": {},
   "outputs": [],
   "source": [
    "# Calculating the correlation between shipping costs and manufacturing costs to understand their relationship\n",
    "cost_analysis = df[['shipping_costs', 'manufacturing_costs']].corr()"
   ]
  },
  {
   "cell_type": "code",
   "execution_count": 38,
   "id": "40e54664-fe23-4dcc-b7ab-a2b959dcacdc",
   "metadata": {},
   "outputs": [
    {
     "name": "stdout",
     "output_type": "stream",
     "text": [
      "Index(['product_type', 'sku', 'price', 'availability',\n",
      "       'number_of_products_sold', 'revenue_generated', 'customer_demographics',\n",
      "       'stock_levels', 'lead_times', 'order_quantities', 'shipping_times',\n",
      "       'shipping_carriers', 'shipping_costs', 'supplier_name', 'location',\n",
      "       'lead_time', 'production_volumes', 'manufacturing_lead_time',\n",
      "       'manufacturing_costs', 'inspection_results', 'defect_rates',\n",
      "       'transportation_modes', 'routes', 'costs'],\n",
      "      dtype='object')\n"
     ]
    }
   ],
   "source": [
    "print(df.columns)\n"
   ]
  },
  {
   "cell_type": "code",
   "execution_count": 41,
   "id": "6284920a-671a-441f-b805-5ec434b6b766",
   "metadata": {},
   "outputs": [],
   "source": [
    "import pandas as pd\n",
    "\n",
    "# Create a date range\n",
    "df['date'] = pd.date_range(start='2023-01-01', periods=len(df), freq='D')\n",
    "df.set_index('date', inplace=True)\n",
    "\n",
    "# Now you can proceed with your time series analysis\n"
   ]
  },
  {
   "cell_type": "code",
   "execution_count": 43,
   "id": "f19fd78a-6740-40ac-88be-c911e97f6df3",
   "metadata": {},
   "outputs": [],
   "source": [
    "import pandas as pd\n",
    "\n",
    "# Assuming your DataFrame is df\n",
    "# Create a date range starting from a specific date\n",
    "df['date'] = pd.date_range(start='2023-01-01', periods=len(df), freq='D')\n",
    "df.set_index('date', inplace=True)  # Set the date as the index\n"
   ]
  },
  {
   "cell_type": "code",
   "execution_count": 44,
   "id": "a2686173-dbc5-4b54-91d1-67fa4a39ba70",
   "metadata": {},
   "outputs": [
    {
     "ename": "KeyError",
     "evalue": "'order_date'",
     "output_type": "error",
     "traceback": [
      "\u001b[1;31m---------------------------------------------------------------------------\u001b[0m",
      "\u001b[1;31mKeyError\u001b[0m                                  Traceback (most recent call last)",
      "File \u001b[1;32mD:\\Applications\\Anacondaff\\Lib\\site-packages\\pandas\\core\\indexes\\base.py:3805\u001b[0m, in \u001b[0;36mIndex.get_loc\u001b[1;34m(self, key)\u001b[0m\n\u001b[0;32m   3804\u001b[0m \u001b[38;5;28;01mtry\u001b[39;00m:\n\u001b[1;32m-> 3805\u001b[0m     \u001b[38;5;28;01mreturn\u001b[39;00m \u001b[38;5;28;43mself\u001b[39;49m\u001b[38;5;241;43m.\u001b[39;49m\u001b[43m_engine\u001b[49m\u001b[38;5;241;43m.\u001b[39;49m\u001b[43mget_loc\u001b[49m\u001b[43m(\u001b[49m\u001b[43mcasted_key\u001b[49m\u001b[43m)\u001b[49m\n\u001b[0;32m   3806\u001b[0m \u001b[38;5;28;01mexcept\u001b[39;00m \u001b[38;5;167;01mKeyError\u001b[39;00m \u001b[38;5;28;01mas\u001b[39;00m err:\n",
      "File \u001b[1;32mindex.pyx:167\u001b[0m, in \u001b[0;36mpandas._libs.index.IndexEngine.get_loc\u001b[1;34m()\u001b[0m\n",
      "File \u001b[1;32mindex.pyx:196\u001b[0m, in \u001b[0;36mpandas._libs.index.IndexEngine.get_loc\u001b[1;34m()\u001b[0m\n",
      "File \u001b[1;32mpandas\\\\_libs\\\\hashtable_class_helper.pxi:7081\u001b[0m, in \u001b[0;36mpandas._libs.hashtable.PyObjectHashTable.get_item\u001b[1;34m()\u001b[0m\n",
      "File \u001b[1;32mpandas\\\\_libs\\\\hashtable_class_helper.pxi:7089\u001b[0m, in \u001b[0;36mpandas._libs.hashtable.PyObjectHashTable.get_item\u001b[1;34m()\u001b[0m\n",
      "\u001b[1;31mKeyError\u001b[0m: 'order_date'",
      "\nThe above exception was the direct cause of the following exception:\n",
      "\u001b[1;31mKeyError\u001b[0m                                  Traceback (most recent call last)",
      "Cell \u001b[1;32mIn[44], line 8\u001b[0m\n\u001b[0;32m      4\u001b[0m \u001b[38;5;28;01mimport\u001b[39;00m \u001b[38;5;21;01mmatplotlib\u001b[39;00m\u001b[38;5;21;01m.\u001b[39;00m\u001b[38;5;21;01mpyplot\u001b[39;00m \u001b[38;5;28;01mas\u001b[39;00m \u001b[38;5;21;01mplt\u001b[39;00m\n\u001b[0;32m      6\u001b[0m \u001b[38;5;66;03m# Example: Use the correct date column name, e.g., 'order_date'\u001b[39;00m\n\u001b[0;32m      7\u001b[0m \u001b[38;5;66;03m# Make sure to convert your date column to datetime format and set it as index\u001b[39;00m\n\u001b[1;32m----> 8\u001b[0m df[\u001b[38;5;124m'\u001b[39m\u001b[38;5;124morder_date\u001b[39m\u001b[38;5;124m'\u001b[39m] \u001b[38;5;241m=\u001b[39m pd\u001b[38;5;241m.\u001b[39mto_datetime(\u001b[43mdf\u001b[49m\u001b[43m[\u001b[49m\u001b[38;5;124;43m'\u001b[39;49m\u001b[38;5;124;43morder_date\u001b[39;49m\u001b[38;5;124;43m'\u001b[39;49m\u001b[43m]\u001b[49m)  \u001b[38;5;66;03m# Change 'order_date' to your actual column name\u001b[39;00m\n\u001b[0;32m      9\u001b[0m df\u001b[38;5;241m.\u001b[39mset_index(\u001b[38;5;124m'\u001b[39m\u001b[38;5;124morder_date\u001b[39m\u001b[38;5;124m'\u001b[39m, inplace\u001b[38;5;241m=\u001b[39m\u001b[38;5;28;01mTrue\u001b[39;00m)\n\u001b[0;32m     11\u001b[0m \u001b[38;5;66;03m# Resample the data to a monthly frequency, summing the number of products sold\u001b[39;00m\n",
      "File \u001b[1;32mD:\\Applications\\Anacondaff\\Lib\\site-packages\\pandas\\core\\frame.py:4102\u001b[0m, in \u001b[0;36mDataFrame.__getitem__\u001b[1;34m(self, key)\u001b[0m\n\u001b[0;32m   4100\u001b[0m \u001b[38;5;28;01mif\u001b[39;00m \u001b[38;5;28mself\u001b[39m\u001b[38;5;241m.\u001b[39mcolumns\u001b[38;5;241m.\u001b[39mnlevels \u001b[38;5;241m>\u001b[39m \u001b[38;5;241m1\u001b[39m:\n\u001b[0;32m   4101\u001b[0m     \u001b[38;5;28;01mreturn\u001b[39;00m \u001b[38;5;28mself\u001b[39m\u001b[38;5;241m.\u001b[39m_getitem_multilevel(key)\n\u001b[1;32m-> 4102\u001b[0m indexer \u001b[38;5;241m=\u001b[39m \u001b[38;5;28;43mself\u001b[39;49m\u001b[38;5;241;43m.\u001b[39;49m\u001b[43mcolumns\u001b[49m\u001b[38;5;241;43m.\u001b[39;49m\u001b[43mget_loc\u001b[49m\u001b[43m(\u001b[49m\u001b[43mkey\u001b[49m\u001b[43m)\u001b[49m\n\u001b[0;32m   4103\u001b[0m \u001b[38;5;28;01mif\u001b[39;00m is_integer(indexer):\n\u001b[0;32m   4104\u001b[0m     indexer \u001b[38;5;241m=\u001b[39m [indexer]\n",
      "File \u001b[1;32mD:\\Applications\\Anacondaff\\Lib\\site-packages\\pandas\\core\\indexes\\base.py:3812\u001b[0m, in \u001b[0;36mIndex.get_loc\u001b[1;34m(self, key)\u001b[0m\n\u001b[0;32m   3807\u001b[0m     \u001b[38;5;28;01mif\u001b[39;00m \u001b[38;5;28misinstance\u001b[39m(casted_key, \u001b[38;5;28mslice\u001b[39m) \u001b[38;5;129;01mor\u001b[39;00m (\n\u001b[0;32m   3808\u001b[0m         \u001b[38;5;28misinstance\u001b[39m(casted_key, abc\u001b[38;5;241m.\u001b[39mIterable)\n\u001b[0;32m   3809\u001b[0m         \u001b[38;5;129;01mand\u001b[39;00m \u001b[38;5;28many\u001b[39m(\u001b[38;5;28misinstance\u001b[39m(x, \u001b[38;5;28mslice\u001b[39m) \u001b[38;5;28;01mfor\u001b[39;00m x \u001b[38;5;129;01min\u001b[39;00m casted_key)\n\u001b[0;32m   3810\u001b[0m     ):\n\u001b[0;32m   3811\u001b[0m         \u001b[38;5;28;01mraise\u001b[39;00m InvalidIndexError(key)\n\u001b[1;32m-> 3812\u001b[0m     \u001b[38;5;28;01mraise\u001b[39;00m \u001b[38;5;167;01mKeyError\u001b[39;00m(key) \u001b[38;5;28;01mfrom\u001b[39;00m \u001b[38;5;21;01merr\u001b[39;00m\n\u001b[0;32m   3813\u001b[0m \u001b[38;5;28;01mexcept\u001b[39;00m \u001b[38;5;167;01mTypeError\u001b[39;00m:\n\u001b[0;32m   3814\u001b[0m     \u001b[38;5;66;03m# If we have a listlike key, _check_indexing_error will raise\u001b[39;00m\n\u001b[0;32m   3815\u001b[0m     \u001b[38;5;66;03m#  InvalidIndexError. Otherwise we fall through and re-raise\u001b[39;00m\n\u001b[0;32m   3816\u001b[0m     \u001b[38;5;66;03m#  the TypeError.\u001b[39;00m\n\u001b[0;32m   3817\u001b[0m     \u001b[38;5;28mself\u001b[39m\u001b[38;5;241m.\u001b[39m_check_indexing_error(key)\n",
      "\u001b[1;31mKeyError\u001b[0m: 'order_date'"
     ]
    }
   ],
   "source": [
    "## Import necessary libraries\n",
    "import pandas as pd\n",
    "import statsmodels.api as sm\n",
    "import matplotlib.pyplot as plt\n",
    "\n",
    "# Example: Use the correct date column name, e.g., 'order_date'\n",
    "# Make sure to convert your date column to datetime format and set it as index\n",
    "df['order_date'] = pd.to_datetime(df['order_date'])  # Change 'order_date' to your actual column name\n",
    "df.set_index('order_date', inplace=True)\n",
    "\n",
    "# Resample the data to a monthly frequency, summing the number of products sold\n",
    "monthly_sales = df['number_of_products_sold'].resample('M').sum()\n",
    "\n",
    "# Plot the monthly sales to visualize the trend\n",
    "plt.figure(figsize=(10, 6))\n",
    "plt.plot(monthly_sales, label='Monthly Sales')\n",
    "plt.title('Monthly Sales Over Time')\n",
    "plt.xlabel('Date')\n",
    "plt.ylabel('Number of Products Sold')\n",
    "plt.legend()\n",
    "plt.show()\n",
    "\n",
    "# Fit an ARIMA model (AutoRegressive Integrated Moving Average) to the data\n",
    "model = sm.tsa.ARIMA(monthly_sales, order=(1, 1, 1))  # Example parameters\n",
    "model_fit = model.fit()\n",
    "\n",
    "# Print the model summary\n",
    "print(model_fit.summary())\n",
    "\n",
    "# Forecast sales for the next 12 months\n",
    "forecast = model_fit.forecast(steps=12)\n",
    "\n",
    "# Plot the forecast results\n",
    "plt.figure(figsize=(10, 6))\n",
    "plt.plot(monthly_sales.index, monthly_sales, label='Historical Sales')\n",
    "plt.plot(forecast.index, forecast, label='Forecasted Sales', color='red')\n",
    "plt.title('Sales Forecast for Next 12 Months')\n",
    "plt.xlabel('Date')\n",
    "plt.ylabel('Number of Products Sold')\n",
    "plt.legend()\n",
    "plt.show()"
   ]
  },
  {
   "cell_type": "code",
   "execution_count": 46,
   "id": "d3deada0-27c8-44b8-beb1-2869a98c18fa",
   "metadata": {},
   "outputs": [],
   "source": []
  },
  {
   "cell_type": "code",
   "execution_count": 47,
   "id": "7d68d7be-c66e-4b47-8777-33f7974abc4a",
   "metadata": {},
   "outputs": [
    {
     "name": "stdout",
     "output_type": "stream",
     "text": [
      "['product_type', 'sku', 'price', 'availability', 'number_of_products_sold', 'revenue_generated', 'customer_demographics', 'stock_levels', 'lead_times', 'order_quantities', 'shipping_times', 'shipping_carriers', 'shipping_costs', 'supplier_name', 'location', 'lead_time', 'production_volumes', 'manufacturing_lead_time', 'manufacturing_costs', 'inspection_results', 'defect_rates', 'transportation_modes', 'routes', 'costs']\n"
     ]
    }
   ],
   "source": [
    "print(df.columns.tolist())\n"
   ]
  },
  {
   "cell_type": "code",
   "execution_count": 48,
   "id": "1bb03849-2481-4b32-b02a-575826112be8",
   "metadata": {},
   "outputs": [
    {
     "name": "stdout",
     "output_type": "stream",
     "text": [
      "date\n",
      "2023-01-31    13279\n",
      "2023-02-28    14893\n",
      "2023-03-31    12716\n",
      "2023-04-30     5211\n",
      "Freq: ME, Name: number_of_products_sold, dtype: int64\n"
     ]
    },
    {
     "name": "stderr",
     "output_type": "stream",
     "text": [
      "C:\\Users\\7haze\\AppData\\Local\\Temp\\ipykernel_24472\\352177767.py:2: FutureWarning: 'M' is deprecated and will be removed in a future version, please use 'ME' instead.\n",
      "  monthly_sales = df['number_of_products_sold'].resample('M').sum()\n"
     ]
    }
   ],
   "source": [
    "# تحليل المبيعات الشهري\n",
    "monthly_sales = df['number_of_products_sold'].resample('M').sum()\n",
    "print(monthly_sales)\n"
   ]
  },
  {
   "cell_type": "code",
   "execution_count": 50,
   "id": "82b77edc-fea1-40ad-b96e-d4e469997537",
   "metadata": {},
   "outputs": [],
   "source": [
    "df.to_csv('data.csv', index=False)"
   ]
  },
  {
   "cell_type": "code",
   "execution_count": null,
   "id": "4a711ec7-6f75-4f78-b5d5-f742f627a11c",
   "metadata": {},
   "outputs": [],
   "source": []
  }
 ],
 "metadata": {
  "kernelspec": {
   "display_name": "Python 3 (ipykernel)",
   "language": "python",
   "name": "python3"
  },
  "language_info": {
   "codemirror_mode": {
    "name": "ipython",
    "version": 3
   },
   "file_extension": ".py",
   "mimetype": "text/x-python",
   "name": "python",
   "nbconvert_exporter": "python",
   "pygments_lexer": "ipython3",
   "version": "3.12.4"
  }
 },
 "nbformat": 4,
 "nbformat_minor": 5
}
